{
 "cells": [
  {
   "cell_type": "code",
   "execution_count": 24,
   "metadata": {},
   "outputs": [],
   "source": [
    "import pandas as pd\n",
    "import numpy as np\n",
    "import matplotlib.pyplot as plt\n",
    "import seaborn as sns"
   ]
  },
  {
   "cell_type": "code",
   "execution_count": 25,
   "metadata": {},
   "outputs": [],
   "source": [
    "import regex as re"
   ]
  },
  {
   "cell_type": "code",
   "execution_count": 26,
   "metadata": {},
   "outputs": [],
   "source": [
    "df = pd.read_csv('/Users/anusharajan/Documents/Assignments_thesis/DOTO_database.csv')"
   ]
  },
  {
   "cell_type": "code",
   "execution_count": 3,
   "metadata": {},
   "outputs": [
    {
     "name": "stderr",
     "output_type": "stream",
     "text": [
      "/var/folders/k8/tcp87zks6m70h7rk_s6t48c40000gn/T/ipykernel_1553/1328613314.py:2: FutureWarning: The default value of regex will change from True to False in a future version.\n",
      "  df['Identity'] = df['Identity'].str.replace(r'\\d+', '')\n"
     ]
    }
   ],
   "source": [
    "#use regex to remove number from the \"Identity\" column\n",
    "df['Identity'] = df['Identity'].str.replace(r'\\d+', '')"
   ]
  },
  {
   "cell_type": "code",
   "execution_count": 5,
   "metadata": {},
   "outputs": [],
   "source": [
    "#remove the character \"-\" from the \"Identity\" column\n",
    "df['Identity'] = df['Identity'].str.replace('-', '')"
   ]
  },
  {
   "cell_type": "code",
   "execution_count": 6,
   "metadata": {},
   "outputs": [],
   "source": [
    "#convert date column to datetime\n",
    "df['Date'] = pd.to_datetime(df['Date'])"
   ]
  },
  {
   "cell_type": "code",
   "execution_count": 7,
   "metadata": {},
   "outputs": [],
   "source": [
    "df = df[df['State'] != 'Madhya Pradesh']\n",
    "df = df[df['State'] != 'Delhi']\n",
    "df = df[df['State'] != 'Jammu and Kashmir']\n",
    "df = df[df['State'] != 'Chandigarh']\n",
    "df= df[df['State'] != 'Puducherry']\n",
    "df = df[df['State'] != 'Andaman and Nicobar Islands']\n",
    "df = df[df['State'] != 'Lakshadweep']\n",
    "df = df[df['State'] != 'Dadra and Nagar Haveli']\n",
    "df = df[df['State'] != 'Daman and Diu']\n",
    "df= df[df['State'] != 'Jharkhand']\n",
    "df= df[df['State'] != 'Karnataka']"
   ]
  },
  {
   "cell_type": "code",
   "execution_count": 8,
   "metadata": {},
   "outputs": [],
   "source": [
    "#create a new column called party_state and if state='Karnataka', 'Gujarat', 'Assam', 'Goa', 'Arunachal Pradesh', 'Haryana', 'Manipur', 'Uttar Pradesh', 'Tripura', 'Uttarakhand', 'Himachal Pradesh', mark BJP. Else Non BJP\n",
    "df['party'] = np.where(df['State'].isin(['Gujarat', 'Assam', 'Goa', 'Arunachal Pradesh', 'Haryana', 'Manipur', 'Uttar Pradesh', 'Tripura', 'Uttarakhand', 'Himachal Pradesh']), 'BJP', 'Non BJP')"
   ]
  },
  {
   "cell_type": "code",
   "execution_count": 9,
   "metadata": {},
   "outputs": [],
   "source": [
    "#make a new column called religion\n",
    "df['religion'] = np.nan"
   ]
  },
  {
   "cell_type": "code",
   "execution_count": 10,
   "metadata": {},
   "outputs": [],
   "source": [
    "#if the \"Identity\" column has \"Muslims\", \"Hindu Muslims\", \"Muslims Christians\", \"Muslims Hindu\", \"Muslims Christians\", \"Muslims Christians Other MInorities\", \"Muslims Police/Investigating Agency\", \"Muslims Public servant/Bureaucrat\", \"Muslims Hindu Police/Investigating Agency\", enter \"Muslim\" in the column\n",
    "df.loc[(df['Identity'].isin(['Muslims', 'Hindu Muslims', 'Muslims Christians', 'Muslims Hindu', 'Muslims Christians', 'Muslims Christians Other Minorities', 'Muslims Police/Investigating Agency', 'Muslims Public servant/Bureaucrat', 'Muslims Hindu Police/Investigating Agency'])), 'religion'] = 'Muslim'"
   ]
  },
  {
   "cell_type": "code",
   "execution_count": 11,
   "metadata": {},
   "outputs": [],
   "source": [
    "#if Identity is empty, enter \"Other\"\n",
    "df.loc[(df['religion'].isnull()), 'religion'] = 'Other'"
   ]
  },
  {
   "cell_type": "code",
   "execution_count": 12,
   "metadata": {},
   "outputs": [],
   "source": [
    "#make a new column called year\n",
    "df['year'] = df['Date'].dt.year"
   ]
  },
  {
   "cell_type": "code",
   "execution_count": 13,
   "metadata": {},
   "outputs": [],
   "source": [
    "#remove the year 1970\n",
    "df = df[df['year'] != 1970]"
   ]
  },
  {
   "cell_type": "code",
   "execution_count": 14,
   "metadata": {},
   "outputs": [],
   "source": [
    "#if a month is between January and April, then it is grouped as month=4, day=30. If it is between May and August,  then it is grouped as month=8, day=31. if it is between September and December, then it is grouped as month=12, day=31\n",
    "df['Date'] = df['Date'].apply(lambda x: x.replace(month=3, day=31) if x.month <= 3 else x.replace(month=6, day=30) if x.month <= 6 else x.replace(month=9, day=30) if x.month <= 9 else x.replace(month=12, day=31))"
   ]
  },
  {
   "cell_type": "code",
   "execution_count": 15,
   "metadata": {},
   "outputs": [],
   "source": [
    "#only keep year=2019, 2020, 2021\n",
    "df = df[df['Date'].dt.year.isin([2019, 2020, 2021])]"
   ]
  },
  {
   "cell_type": "code",
   "execution_count": 16,
   "metadata": {},
   "outputs": [],
   "source": [
    "#only only rows where religion is \"Muslim\"\n",
    "df = df[df['religion'] == 'Muslim']"
   ]
  },
  {
   "cell_type": "code",
   "execution_count": 17,
   "metadata": {},
   "outputs": [],
   "source": [
    "#count number of incidents by party, date, religion\n",
    "count_df = df.groupby(['party', 'Date', 'religion']).size().reset_index(name='counts')"
   ]
  },
  {
   "cell_type": "code",
   "execution_count": 18,
   "metadata": {},
   "outputs": [],
   "source": [
    "#make a column called post with 1 if date is after 1 April 2020 and 0 if date is before 1 April 2020\n",
    "count_df['post'] = np.where(count_df['Date'] >= '2020-04-01', 1, 0)"
   ]
  },
  {
   "cell_type": "code",
   "execution_count": 19,
   "metadata": {},
   "outputs": [],
   "source": [
    "#only keep rows where identity is \"other\"\n",
    "count_df = count_df[count_df['religion'] == 'Other']"
   ]
  },
  {
   "cell_type": "code",
   "execution_count": null,
   "metadata": {},
   "outputs": [],
   "source": [
    "#make a density plot for pre=0, and party=BJP s\n",
    "sns.kdeplot(data=count_df[count_df['party'] == 'BJP'][count_df['post'] == 0], x=\"counts\", fill=True, linewidth=1, linestyle='solid', color='blue')\n",
    "#add a plot for pre=0, party=Non BJP\n",
    "sns.kdeplot(data=count_df[count_df['party'] == 'Non BJP'][count_df['post'] == 0], x=\"counts\", alpha=.5, fill=True, linewidth=1, linestyle='solid', color='grey')\n",
    "#add a line for the mean\n",
    "plt.axvline(count_df[count_df['party'] == 'BJP'][count_df['post'] == 0]['counts'].mean(), color='blue', linestyle='dashed', linewidth=1)\n",
    "#add a line for the mean\n",
    "plt.axvline(count_df[count_df['party'] == 'Non BJP'][count_df['post'] == 0]['counts'].mean(), color='grey', linestyle='dashed', linewidth=1)\n",
    "#add a title in times new roman\n",
    "plt.title('Density plot of number of incidents per day for BJP and Non BJP before 1 April 2020', fontname='Times New Roman', fontsize=12)\n",
    "#add a legend\n",
    "plt.legend(['BJP', 'Non BJP'])"
   ]
  },
  {
   "cell_type": "code",
   "execution_count": null,
   "metadata": {},
   "outputs": [],
   "source": [
    "#make a density plot for post=1, and party=BJP s\n",
    "sns.kdeplot(data=count_df[count_df['party'] == 'BJP'][count_df['post'] == 1], x=\"counts\", fill=True, linewidth=1, linestyle='solid', color='blue')\n",
    "#add a plot for post=1, party=Non BJP\n",
    "sns.kdeplot(data=count_df[count_df['party'] == 'Non BJP'][count_df['post'] == 1], x=\"counts\",fill=True, linewidth=1, linestyle='solid', color='grey')\n",
    "#add a line for the mean\n",
    "plt.axvline(count_df[count_df['party'] == 'BJP'][count_df['post'] == 1]['counts'].mean(), color='blue', linestyle='dashed', linewidth=1)\n",
    "#add a line for the mean\n",
    "plt.axvline(count_df[count_df['party'] == 'Non BJP'][count_df['post'] == 1]['counts'].mean(), color='grey', linestyle='dashed', linewidth=1)\n",
    "#add a title in times new roman\n",
    "plt.title('Density plot of number of incidents per day for BJP and Non BJP after 1 April 2020', fontname='Times New Roman', fontsize=12)\n",
    "#add a legend\n",
    "plt.legend(['BJP', 'Non BJP'])\n"
   ]
  },
  {
   "cell_type": "code",
   "execution_count": null,
   "metadata": {},
   "outputs": [],
   "source": [
    "import plotly.express as px\n",
    "#plot a line plot with ink blue line for BJP and black line for Non BJP and a plain background\n",
    "fig = px.line(count_df, x=\"Date\", y=\"counts\", color='party', color_discrete_map={'BJP': 'rgb(0,0,255)', 'Non BJP': 'rgb(0,0,0)'}, template='plotly_white')\n",
    "\n",
    "#add a vertical line on the date 01-04-2020\n",
    "fig.add_vline(x=\"2020-04-01\", line_width=1, line_dash=\"dash\", line_color=\"black\")\n",
    "#label all dates on the x-axis\n",
    "fig.update_xaxes(\n",
    "    ticktext=['2019-03-31', '2019-06-30', '2019-09-30', '2019-12-31', \n",
    "              '2020-03-31', '2020-06-30', '2020-09-30', '2020-12-31', \n",
    "              '2021-03-31', '2021-06-30', '2021-09-30', '2021-12-31',],\n",
    "    tickvals=['2019-03-31', '2019-06-30', '2019-09-30', '2019-12-31', \n",
    "              '2020-03-31', '2020-06-30', '2020-09-30', '2020-12-31', \n",
    "              '2021-03-31', '2021-06-30', '2021-09-30', '2021-12-31'],\n",
    "    tickangle=90\n",
    ")\n",
    "\n",
    "#y-axis label\n",
    "fig.update_yaxes(title_text='Number of incidents')\n",
    "\n",
    "#show the plot\n",
    "fig.show()"
   ]
  },
  {
   "cell_type": "code",
   "execution_count": null,
   "metadata": {},
   "outputs": [],
   "source": [
    "#make density plot of the number of incidents by party in the period before 1 April 2020 and add lines for the mean using plotly\n",
    "fig = px.density(count_df[count_df['Date'] < '2020-04-01'], x=\"counts\", color=\"party\", template='plotly_white')\n",
    "fig.add_vline(x=fig.data[0].x.mean(), line_width=1, line_dash=\"dash\", line_color=\"black\")\n",
    "fig.add_vline(x=fig.data[1].x.mean(), line_width=1, line_dash=\"dash\", line_color=\"black\")\n",
    "fig.show()"
   ]
  },
  {
   "cell_type": "code",
   "execution_count": 65,
   "metadata": {},
   "outputs": [],
   "source": [
    "#only keep rows where identity is \"Other\"\n",
    "count_df = count_df[count_df['religion'] == 'Other']"
   ]
  },
  {
   "cell_type": "code",
   "execution_count": null,
   "metadata": {},
   "outputs": [],
   "source": [
    "#make dotted line plot with ink blue line for BJP and black line for Non BJP and a plain background for count_df\n",
    "fig = px.line(count_df, x=\"Date\", y=\"counts\", color='party', color_discrete_map={'BJP': 'rgb(0,0,255)', 'Non BJP': 'rgb(0,0,0)'}, template='plotly_white')\n",
    "#add a vertical line on the date 01-04-2020\n",
    "fig.add_vline(x=\"2020-04-01\", line_width=1, line_dash=\"dash\", line_color=\"black\")\n",
    "#label all dates on the x-axis\n",
    "fig.update_xaxes(\n",
    "    ticktext=['2019-03-31', '2019-06-30', '2019-09-30', '2019-12-31', \n",
    "              '2020-03-31', '2020-06-30', '2020-09-30', '2020-12-31', \n",
    "              '2021-03-31', '2021-06-30', '2021-09-30', '2021-12-31',],\n",
    "    tickvals=['2019-03-31', '2019-06-30', '2019-09-30', '2019-12-31', \n",
    "              '2020-03-31', '2020-06-30', '2020-09-30', '2020-12-31', \n",
    "              '2021-03-31', '2021-06-30', '2021-09-30', '2021-12-31'],\n",
    "    tickangle=90\n",
    ")\n",
    "#y-axis label\n",
    "fig.update_yaxes(title_text='Number of incidents')\n",
    "#show the plot\n",
    "fig.show()"
   ]
  },
  {
   "cell_type": "code",
   "execution_count": 154,
   "metadata": {},
   "outputs": [],
   "source": [
    "#export df to csv\n",
    "df.to_csv('/Users/anusharajan/Documents/Assignments_thesis/df_final.csv')"
   ]
  },
  {
   "cell_type": "code",
   "execution_count": 299,
   "metadata": {},
   "outputs": [],
   "source": [
    "count_data = pd.read_csv('/Users/anusharajan/Documents/Assignments_thesis/count_data.csv')"
   ]
  },
  {
   "cell_type": "code",
   "execution_count": 300,
   "metadata": {},
   "outputs": [],
   "source": [
    "#parse the date column as datetime\n",
    "count_data['Date'] = pd.to_datetime(count_data['Date'], format='%Y-%m-%d')"
   ]
  },
  {
   "cell_type": "code",
   "execution_count": 301,
   "metadata": {},
   "outputs": [],
   "source": [
    "#count number of rows for each state and make a new df called try_this\n",
    "try_this = count_data.groupby(['State']).agg({'counts': 'count'}).reset_index()"
   ]
  },
  {
   "cell_type": "code",
   "execution_count": null,
   "metadata": {},
   "outputs": [],
   "source": [
    "#check for duplicates in the date column for every state\n",
    "for i in count_data['State']:\n",
    "    print(i)\n",
    "    print(count_data[count_data['State'] == i]['Date'].duplicated().any())"
   ]
  },
  {
   "cell_type": "code",
   "execution_count": 303,
   "metadata": {},
   "outputs": [],
   "source": [
    "#make a new column called post and if the date is after 2020-03-24, make the value 1 else 0\n",
    "count_data['post'] = np.where(count_data['Date'] > '2020-03-24', 1, 0)"
   ]
  },
  {
   "cell_type": "code",
   "execution_count": 305,
   "metadata": {},
   "outputs": [],
   "source": [
    "#if party is BJP, make the value 1 else 0\n",
    "count_data['partyid'] = np.where(count_data['party'] == 'BJP', 1, 0)"
   ]
  },
  {
   "cell_type": "code",
   "execution_count": 309,
   "metadata": {},
   "outputs": [],
   "source": [
    "count_data.to_csv('count_data.csv')"
   ]
  },
  {
   "cell_type": "code",
   "execution_count": 16,
   "metadata": {},
   "outputs": [],
   "source": [
    "#import cmie df from /Users/anusharajan/Documents/Assignments_thesis/CMIE - Sheet1.csv\n",
    "cmie = pd.read_csv('/Users/anusharajan/Documents/Assignments_thesis/CMIE - Sheet1.csv')"
   ]
  },
  {
   "cell_type": "code",
   "execution_count": 17,
   "metadata": {},
   "outputs": [],
   "source": [
    "#convert it from wide to long\n",
    "cmie = pd.melt(cmie, id_vars=['States'], value_vars=['Jan 2019', 'Feb 2019', 'Mar 2019', 'Apr 2019', 'May 2019', 'Jun 2019', \n",
    "                                                     'Jul 2019', 'Aug 2019', 'Sep 2019', 'Oct 2019', 'Nov 2019', 'Dec 2019', \n",
    "                                                     'Jan 2020', 'Feb 2020', 'Mar 2020', 'Apr 2020', 'May 2020', 'Jun 2020', \n",
    "                                                     'Jul 2020', 'Aug 2020', 'Sep 2020', 'Oct 2020', 'Nov 2020', 'Dec 2020', \n",
    "                                                     'Jan 2021', 'Feb 2021', 'Mar 2021', 'Apr 2021', 'May 2021', 'Jun 2021', \n",
    "                                                     'Jul 2021', 'Aug 2021', 'Sep 2021', 'Oct 2021', 'Nov 2021', 'Dec 2021'])"
   ]
  },
  {
   "cell_type": "code",
   "execution_count": 18,
   "metadata": {},
   "outputs": [],
   "source": [
    "#convert the variable column to datetime\n",
    "cmie['variable'] = pd.to_datetime(cmie['variable'], format='%b %Y')"
   ]
  },
  {
   "cell_type": "code",
   "execution_count": 19,
   "metadata": {},
   "outputs": [],
   "source": [
    "#make a new column called month_year\n",
    "cmie['month_year'] = cmie['variable'].dt.month.astype(str) + '-' + cmie['variable'].dt.year.astype(str)"
   ]
  },
  {
   "cell_type": "code",
   "execution_count": 21,
   "metadata": {},
   "outputs": [],
   "source": [
    "#if month_year 1-2020,2-2020, 3-2020 group them together and sum the number of deaths\n",
    "cmie.loc[cmie['month_year'].isin(['1-2019', '2-2019', '3-2019']), 'month_year'] = '3-2019'\n",
    "cmie.loc[cmie['month_year'].isin(['4-2019', '5-2019', '6-2019']), 'month_year'] = '6-2019'\n",
    "cmie.loc[cmie['month_year'].isin(['7-2019', '8-2019', '9-2019']), 'month_year'] = '9-2019'\n",
    "cmie.loc[cmie['month_year'].isin(['10-2019', '11-2019', '12-2019']), 'month_year'] = '12-2019'\n",
    "\n",
    "\n",
    "cmie.loc[cmie['month_year'].isin(['1-2020', '2-2020', '3-2020']), 'month_year'] = '3-2020'\n",
    "cmie.loc[cmie['month_year'].isin(['4-2020', '5-2020', '6-2020']), 'month_year'] = '6-2020'\n",
    "cmie.loc[cmie['month_year'].isin(['7-2020', '8-2020', '9-2020']), 'month_year'] = '9-2020'\n",
    "cmie.loc[cmie['month_year'].isin(['10-2020', '11-2020', '12-2020']), 'month_year'] = '12-2020'\n",
    "\n",
    "cmie.loc[cmie['month_year'].isin(['1-2021', '2-2021', '3-2021']), 'month_year'] = '3-2021'\n",
    "cmie.loc[cmie['month_year'].isin(['4-2021', '5-2021', '6-2021']), 'month_year'] = '6-2021'\n",
    "cmie.loc[cmie['month_year'].isin(['7-2021', '8-2021', '9-2021']), 'month_year'] = '9-2021'\n",
    "cmie.loc[cmie['month_year'].isin(['10-2021', '11-2021', '12-2021']), 'month_year'] = '12-2021'"
   ]
  },
  {
   "cell_type": "code",
   "execution_count": 22,
   "metadata": {},
   "outputs": [],
   "source": [
    "#group by state and month_year and take average of the value column\n",
    "cmie = cmie.groupby(['States', 'month_year']).agg({'value': 'mean'}).reset_index()"
   ]
  },
  {
   "cell_type": "code",
   "execution_count": 23,
   "metadata": {},
   "outputs": [],
   "source": [
    "#convert month_year to datetime\n",
    "cmie['month_year'] = pd.to_datetime(cmie['month_year'], format='%m-%Y')"
   ]
  },
  {
   "cell_type": "code",
   "execution_count": 24,
   "metadata": {},
   "outputs": [],
   "source": [
    "#export cmie to csv\n",
    "cmie.to_csv('cmie.csv')"
   ]
  },
  {
   "cell_type": "code",
   "execution_count": 17,
   "metadata": {},
   "outputs": [],
   "source": [
    "#import /Users/anusharajan/Documents/Assignments_thesis/count_data.csv\n",
    "count_data = pd.read_csv('/Users/anusharajan/Documents/Assignments_thesis/count_data.csv')"
   ]
  },
  {
   "cell_type": "code",
   "execution_count": 18,
   "metadata": {},
   "outputs": [],
   "source": [
    "#if date is before 1-04-2020, make the value 1 else 0\n",
    "count_data['pre'] = np.where(count_data['Date'] < '2020-04-01', 0, 1)"
   ]
  },
  {
   "cell_type": "code",
   "execution_count": 20,
   "metadata": {},
   "outputs": [],
   "source": [
    "#make a column called partyid if BJP, make the value 1 else 0\n",
    "count_data['partyid'] = np.where(count_data['party'] == 'BJP', 1, 0)"
   ]
  },
  {
   "cell_type": "code",
   "execution_count": 12,
   "metadata": {},
   "outputs": [],
   "source": [
    "#export to csv\n",
    "count_data.to_csv('count_data.csv')"
   ]
  },
  {
   "cell_type": "code",
   "execution_count": 2,
   "metadata": {},
   "outputs": [],
   "source": [
    "covid19 = pd.read_csv('/Users/anusharajan/Documents/Assignments_thesis/COVID-19 Cases(06-04-2023).csv')"
   ]
  },
  {
   "cell_type": "code",
   "execution_count": 3,
   "metadata": {},
   "outputs": [],
   "source": [
    "#read date column as datetime\n",
    "covid19['Date'] = pd.to_datetime(covid19['Date'], format='%d/%m/%Y')"
   ]
  },
  {
   "cell_type": "code",
   "execution_count": 4,
   "metadata": {},
   "outputs": [],
   "source": [
    "#only keep years 2020 and 2021\n",
    "covid19 = covid19[covid19['Date'].dt.year.isin([2020, 2021])]"
   ]
  },
  {
   "cell_type": "code",
   "execution_count": 5,
   "metadata": {},
   "outputs": [],
   "source": [
    "covid19 = covid19[covid19['Region'].isin(['Karnataka', 'Madhya Pradesh', 'Jharkhand'])]"
   ]
  },
  {
   "cell_type": "code",
   "execution_count": 6,
   "metadata": {},
   "outputs": [],
   "source": [
    "#if a month is between January and April, then it is grouped as month=4, day=30. If it is between May and August,  then it is grouped as month=8, day=31. if it is between September and December, then it is grouped as month=12, day=31\n",
    "covid19['Date'] = covid19['Date'].apply(lambda x: x.replace(month=3, day=31) if x.month <= 3 else x.replace(month=6, day=30) if x.month <= 6 else x.replace(month=9, day=30) if x.month <= 9 else x.replace(month=12, day=31))\n",
    "#group by region and date and take the mean of the values\n",
    "covid19 = covid19.groupby(['Region', 'Date']).agg({'Death': 'mean'}).reset_index()"
   ]
  },
  {
   "cell_type": "code",
   "execution_count": 7,
   "metadata": {},
   "outputs": [],
   "source": [
    "covid19.to_csv('/Users/anusharajan/Documents/Assignments_thesis/covid_df_robust.csv', index=False)"
   ]
  },
  {
   "cell_type": "code",
   "execution_count": null,
   "metadata": {},
   "outputs": [],
   "source": [
    "state_df = pd.read_csv('/Users/anusharajan/Documents/Assignments_thesis/OxCGRT_IND_latest.csv')"
   ]
  },
  {
   "cell_type": "code",
   "execution_count": 42,
   "metadata": {},
   "outputs": [],
   "source": [
    "state_df = state_df[state_df['RegionName'] != 'Madhya Pradesh'] \n",
    "state_df = state_df[state_df['RegionName'] != 'Delhi'] \n",
    "state_df = state_df[state_df['RegionName'] != 'Jammu and Kashmir'] \n",
    "state_df = state_df[state_df['RegionName'] != 'Chandigarh'] \n",
    "state_df= state_df[state_df['RegionName'] != 'Puducherry'] \n",
    "state_df = state_df[state_df['RegionName'] != 'Andaman and Nicobar Islands'] \n",
    "state_df = state_df[state_df['RegionName'] != 'Lakshadweep'] \n",
    "state_df = state_df[state_df['RegionName'] != 'Dadra and Nagar Haveli'] \n",
    "state_df = state_df[state_df['RegionName'] != 'Daman and Diu'] \n",
    "state_df= state_df[state_df['RegionName'] != 'Jharkhand'] \n",
    "state_df= state_df[state_df['RegionName'] != 'Karnataka']\n",
    "state_df= state_df[state_df['RegionName'] != 'Ladakh']"
   ]
  },
  {
   "cell_type": "code",
   "execution_count": 43,
   "metadata": {},
   "outputs": [],
   "source": [
    "#read Date column as datetime\n",
    "state_df['Date'] = pd.to_datetime(state_df['Date'], format='%Y%m%d')"
   ]
  },
  {
   "cell_type": "code",
   "execution_count": 44,
   "metadata": {},
   "outputs": [],
   "source": [
    "#only keep years 2020 and 2021\n",
    "state_df = state_df[state_df['Date'].dt.year.isin([2020, 2021])]"
   ]
  },
  {
   "cell_type": "code",
   "execution_count": null,
   "metadata": {},
   "outputs": [],
   "source": [
    "#display column names\n",
    "state_df.columns"
   ]
  },
  {
   "cell_type": "code",
   "execution_count": 45,
   "metadata": {},
   "outputs": [],
   "source": [
    "state_df = state_df[['RegionName', 'Date', 'C1M_School closing', 'C2M_Workplace closing', 'C3M_Cancel public events', 'C4M_Restrictions on gatherings', 'C5M_Close public transport', 'C6M_Stay at home requirements', 'C7M_Restrictions on internal movement', 'H1_Public information campaigns']]"
   ]
  },
  {
   "cell_type": "code",
   "execution_count": 46,
   "metadata": {},
   "outputs": [],
   "source": [
    "#remove rows where RegionName=Nan\n",
    "state_df = state_df[state_df['RegionName'].notna()]"
   ]
  },
  {
   "cell_type": "code",
   "execution_count": 47,
   "metadata": {},
   "outputs": [],
   "source": [
    "#remove rows with Nan values\n",
    "state_df = state_df.dropna()"
   ]
  },
  {
   "cell_type": "code",
   "execution_count": 48,
   "metadata": {},
   "outputs": [],
   "source": [
    "#if a month is between January and April, then it is grouped as month=4, day=30. If it is between May and August,  then it is grouped as month=8, day=31. if it is between September and December, then it is grouped as month=12, day=31\n",
    "state_df['Date'] = state_df['Date'].apply(lambda x: x.replace(month=3, day=31) if x.month <= 3 else x.replace(month=6, day=30) if x.month <= 6 else x.replace(month=9, day=30) if x.month <= 9 else x.replace(month=12, day=31))"
   ]
  },
  {
   "cell_type": "code",
   "execution_count": 49,
   "metadata": {},
   "outputs": [],
   "source": [
    "#group by region and date and take the mean of the values\n",
    "state_df = state_df.groupby(['RegionName', 'Date']).agg({'C1M_School closing': 'mean', 'C2M_Workplace closing': 'mean', 'C3M_Cancel public events': 'mean', 'C4M_Restrictions on gatherings': 'mean', 'C5M_Close public transport': 'mean', 'C6M_Stay at home requirements': 'mean', 'C7M_Restrictions on internal movement': 'mean', 'H1_Public information campaigns': 'mean'}).reset_index()"
   ]
  },
  {
   "cell_type": "code",
   "execution_count": 52,
   "metadata": {},
   "outputs": [],
   "source": [
    "state_df= state_df[state_df['RegionName'] != 'Dadra and Nagar Haveli and Daman and Diu']"
   ]
  },
  {
   "cell_type": "code",
   "execution_count": 3,
   "metadata": {},
   "outputs": [],
   "source": [
    "#make partyid column and if BJP, make the value 1 else 0\n",
    "count_data['partyid'] = np.where(count_data['party'] == 'BJP', 1, 0)\n",
    "#parse date column as datetime\n",
    "count_data['Date'] = pd.to_datetime(count_data['Date'], format='%Y-%m-%d')\n",
    "#make a post column and if date is after 1-04-2020, make the value 1 else 0\n",
    "count_data['post'] = np.where(count_data['Date'] >= '2020-04-01', 1, 0)"
   ]
  },
  {
   "cell_type": "code",
   "execution_count": 10,
   "metadata": {},
   "outputs": [],
   "source": [
    "robust_df = pd.read_csv('/Users/anusharajan/Documents/Assignments_thesis/DOTO_database.csv')"
   ]
  },
  {
   "cell_type": "code",
   "execution_count": 11,
   "metadata": {},
   "outputs": [
    {
     "data": {
      "application/vnd.plotly.v1+json": {
       "config": {
        "plotlyServerURL": "https://plot.ly"
       },
       "data": [
        {
         "hovertemplate": "party=BJP<br>Date=%{x}<br>counts=%{y}<extra></extra>",
         "legendgroup": "BJP",
         "line": {
          "color": "rgb(0,0,255)",
          "dash": "solid"
         },
         "marker": {
          "symbol": "circle"
         },
         "mode": "lines",
         "name": "BJP",
         "orientation": "v",
         "showlegend": true,
         "type": "scatter",
         "x": [
          "2019-03-31T00:00:00",
          "2019-06-30T00:00:00",
          "2019-09-30T00:00:00",
          "2019-12-31T00:00:00",
          "2020-03-31T00:00:00",
          "2020-06-30T00:00:00",
          "2020-09-30T00:00:00",
          "2020-12-31T00:00:00",
          "2021-03-31T00:00:00",
          "2021-06-30T00:00:00",
          "2021-09-30T00:00:00",
          "2021-12-31T00:00:00"
         ],
         "xaxis": "x",
         "y": [
          25,
          24,
          26,
          19,
          12,
          26,
          9,
          6,
          10,
          21,
          32,
          17
         ],
         "yaxis": "y"
        },
        {
         "hovertemplate": "party=Non BJP<br>Date=%{x}<br>counts=%{y}<extra></extra>",
         "legendgroup": "Non BJP",
         "line": {
          "color": "rgb(0,0,0)",
          "dash": "solid"
         },
         "marker": {
          "symbol": "circle"
         },
         "mode": "lines",
         "name": "Non BJP",
         "orientation": "v",
         "showlegend": true,
         "type": "scatter",
         "x": [
          "2019-03-31T00:00:00",
          "2019-06-30T00:00:00",
          "2019-09-30T00:00:00",
          "2019-12-31T00:00:00",
          "2020-03-31T00:00:00",
          "2020-06-30T00:00:00",
          "2020-09-30T00:00:00",
          "2020-12-31T00:00:00",
          "2021-03-31T00:00:00",
          "2021-06-30T00:00:00",
          "2021-09-30T00:00:00",
          "2021-12-31T00:00:00"
         ],
         "xaxis": "x",
         "y": [
          22,
          19,
          27,
          13,
          7,
          9,
          9,
          2,
          1,
          3,
          6,
          2
         ],
         "yaxis": "y"
        }
       ],
       "layout": {
        "legend": {
         "title": {
          "text": "party"
         },
         "tracegroupgap": 0
        },
        "margin": {
         "t": 60
        },
        "shapes": [
         {
          "line": {
           "color": "black",
           "dash": "dash",
           "width": 1
          },
          "type": "line",
          "x0": "2020-04-01",
          "x1": "2020-04-01",
          "xref": "x",
          "y0": 0,
          "y1": 1,
          "yref": "y domain"
         }
        ],
        "template": {
         "data": {
          "bar": [
           {
            "error_x": {
             "color": "#2a3f5f"
            },
            "error_y": {
             "color": "#2a3f5f"
            },
            "marker": {
             "line": {
              "color": "white",
              "width": 0.5
             },
             "pattern": {
              "fillmode": "overlay",
              "size": 10,
              "solidity": 0.2
             }
            },
            "type": "bar"
           }
          ],
          "barpolar": [
           {
            "marker": {
             "line": {
              "color": "white",
              "width": 0.5
             },
             "pattern": {
              "fillmode": "overlay",
              "size": 10,
              "solidity": 0.2
             }
            },
            "type": "barpolar"
           }
          ],
          "carpet": [
           {
            "aaxis": {
             "endlinecolor": "#2a3f5f",
             "gridcolor": "#C8D4E3",
             "linecolor": "#C8D4E3",
             "minorgridcolor": "#C8D4E3",
             "startlinecolor": "#2a3f5f"
            },
            "baxis": {
             "endlinecolor": "#2a3f5f",
             "gridcolor": "#C8D4E3",
             "linecolor": "#C8D4E3",
             "minorgridcolor": "#C8D4E3",
             "startlinecolor": "#2a3f5f"
            },
            "type": "carpet"
           }
          ],
          "choropleth": [
           {
            "colorbar": {
             "outlinewidth": 0,
             "ticks": ""
            },
            "type": "choropleth"
           }
          ],
          "contour": [
           {
            "colorbar": {
             "outlinewidth": 0,
             "ticks": ""
            },
            "colorscale": [
             [
              0,
              "#0d0887"
             ],
             [
              0.1111111111111111,
              "#46039f"
             ],
             [
              0.2222222222222222,
              "#7201a8"
             ],
             [
              0.3333333333333333,
              "#9c179e"
             ],
             [
              0.4444444444444444,
              "#bd3786"
             ],
             [
              0.5555555555555556,
              "#d8576b"
             ],
             [
              0.6666666666666666,
              "#ed7953"
             ],
             [
              0.7777777777777778,
              "#fb9f3a"
             ],
             [
              0.8888888888888888,
              "#fdca26"
             ],
             [
              1,
              "#f0f921"
             ]
            ],
            "type": "contour"
           }
          ],
          "contourcarpet": [
           {
            "colorbar": {
             "outlinewidth": 0,
             "ticks": ""
            },
            "type": "contourcarpet"
           }
          ],
          "heatmap": [
           {
            "colorbar": {
             "outlinewidth": 0,
             "ticks": ""
            },
            "colorscale": [
             [
              0,
              "#0d0887"
             ],
             [
              0.1111111111111111,
              "#46039f"
             ],
             [
              0.2222222222222222,
              "#7201a8"
             ],
             [
              0.3333333333333333,
              "#9c179e"
             ],
             [
              0.4444444444444444,
              "#bd3786"
             ],
             [
              0.5555555555555556,
              "#d8576b"
             ],
             [
              0.6666666666666666,
              "#ed7953"
             ],
             [
              0.7777777777777778,
              "#fb9f3a"
             ],
             [
              0.8888888888888888,
              "#fdca26"
             ],
             [
              1,
              "#f0f921"
             ]
            ],
            "type": "heatmap"
           }
          ],
          "heatmapgl": [
           {
            "colorbar": {
             "outlinewidth": 0,
             "ticks": ""
            },
            "colorscale": [
             [
              0,
              "#0d0887"
             ],
             [
              0.1111111111111111,
              "#46039f"
             ],
             [
              0.2222222222222222,
              "#7201a8"
             ],
             [
              0.3333333333333333,
              "#9c179e"
             ],
             [
              0.4444444444444444,
              "#bd3786"
             ],
             [
              0.5555555555555556,
              "#d8576b"
             ],
             [
              0.6666666666666666,
              "#ed7953"
             ],
             [
              0.7777777777777778,
              "#fb9f3a"
             ],
             [
              0.8888888888888888,
              "#fdca26"
             ],
             [
              1,
              "#f0f921"
             ]
            ],
            "type": "heatmapgl"
           }
          ],
          "histogram": [
           {
            "marker": {
             "pattern": {
              "fillmode": "overlay",
              "size": 10,
              "solidity": 0.2
             }
            },
            "type": "histogram"
           }
          ],
          "histogram2d": [
           {
            "colorbar": {
             "outlinewidth": 0,
             "ticks": ""
            },
            "colorscale": [
             [
              0,
              "#0d0887"
             ],
             [
              0.1111111111111111,
              "#46039f"
             ],
             [
              0.2222222222222222,
              "#7201a8"
             ],
             [
              0.3333333333333333,
              "#9c179e"
             ],
             [
              0.4444444444444444,
              "#bd3786"
             ],
             [
              0.5555555555555556,
              "#d8576b"
             ],
             [
              0.6666666666666666,
              "#ed7953"
             ],
             [
              0.7777777777777778,
              "#fb9f3a"
             ],
             [
              0.8888888888888888,
              "#fdca26"
             ],
             [
              1,
              "#f0f921"
             ]
            ],
            "type": "histogram2d"
           }
          ],
          "histogram2dcontour": [
           {
            "colorbar": {
             "outlinewidth": 0,
             "ticks": ""
            },
            "colorscale": [
             [
              0,
              "#0d0887"
             ],
             [
              0.1111111111111111,
              "#46039f"
             ],
             [
              0.2222222222222222,
              "#7201a8"
             ],
             [
              0.3333333333333333,
              "#9c179e"
             ],
             [
              0.4444444444444444,
              "#bd3786"
             ],
             [
              0.5555555555555556,
              "#d8576b"
             ],
             [
              0.6666666666666666,
              "#ed7953"
             ],
             [
              0.7777777777777778,
              "#fb9f3a"
             ],
             [
              0.8888888888888888,
              "#fdca26"
             ],
             [
              1,
              "#f0f921"
             ]
            ],
            "type": "histogram2dcontour"
           }
          ],
          "mesh3d": [
           {
            "colorbar": {
             "outlinewidth": 0,
             "ticks": ""
            },
            "type": "mesh3d"
           }
          ],
          "parcoords": [
           {
            "line": {
             "colorbar": {
              "outlinewidth": 0,
              "ticks": ""
             }
            },
            "type": "parcoords"
           }
          ],
          "pie": [
           {
            "automargin": true,
            "type": "pie"
           }
          ],
          "scatter": [
           {
            "fillpattern": {
             "fillmode": "overlay",
             "size": 10,
             "solidity": 0.2
            },
            "type": "scatter"
           }
          ],
          "scatter3d": [
           {
            "line": {
             "colorbar": {
              "outlinewidth": 0,
              "ticks": ""
             }
            },
            "marker": {
             "colorbar": {
              "outlinewidth": 0,
              "ticks": ""
             }
            },
            "type": "scatter3d"
           }
          ],
          "scattercarpet": [
           {
            "marker": {
             "colorbar": {
              "outlinewidth": 0,
              "ticks": ""
             }
            },
            "type": "scattercarpet"
           }
          ],
          "scattergeo": [
           {
            "marker": {
             "colorbar": {
              "outlinewidth": 0,
              "ticks": ""
             }
            },
            "type": "scattergeo"
           }
          ],
          "scattergl": [
           {
            "marker": {
             "colorbar": {
              "outlinewidth": 0,
              "ticks": ""
             }
            },
            "type": "scattergl"
           }
          ],
          "scattermapbox": [
           {
            "marker": {
             "colorbar": {
              "outlinewidth": 0,
              "ticks": ""
             }
            },
            "type": "scattermapbox"
           }
          ],
          "scatterpolar": [
           {
            "marker": {
             "colorbar": {
              "outlinewidth": 0,
              "ticks": ""
             }
            },
            "type": "scatterpolar"
           }
          ],
          "scatterpolargl": [
           {
            "marker": {
             "colorbar": {
              "outlinewidth": 0,
              "ticks": ""
             }
            },
            "type": "scatterpolargl"
           }
          ],
          "scatterternary": [
           {
            "marker": {
             "colorbar": {
              "outlinewidth": 0,
              "ticks": ""
             }
            },
            "type": "scatterternary"
           }
          ],
          "surface": [
           {
            "colorbar": {
             "outlinewidth": 0,
             "ticks": ""
            },
            "colorscale": [
             [
              0,
              "#0d0887"
             ],
             [
              0.1111111111111111,
              "#46039f"
             ],
             [
              0.2222222222222222,
              "#7201a8"
             ],
             [
              0.3333333333333333,
              "#9c179e"
             ],
             [
              0.4444444444444444,
              "#bd3786"
             ],
             [
              0.5555555555555556,
              "#d8576b"
             ],
             [
              0.6666666666666666,
              "#ed7953"
             ],
             [
              0.7777777777777778,
              "#fb9f3a"
             ],
             [
              0.8888888888888888,
              "#fdca26"
             ],
             [
              1,
              "#f0f921"
             ]
            ],
            "type": "surface"
           }
          ],
          "table": [
           {
            "cells": {
             "fill": {
              "color": "#EBF0F8"
             },
             "line": {
              "color": "white"
             }
            },
            "header": {
             "fill": {
              "color": "#C8D4E3"
             },
             "line": {
              "color": "white"
             }
            },
            "type": "table"
           }
          ]
         },
         "layout": {
          "annotationdefaults": {
           "arrowcolor": "#2a3f5f",
           "arrowhead": 0,
           "arrowwidth": 1
          },
          "autotypenumbers": "strict",
          "coloraxis": {
           "colorbar": {
            "outlinewidth": 0,
            "ticks": ""
           }
          },
          "colorscale": {
           "diverging": [
            [
             0,
             "#8e0152"
            ],
            [
             0.1,
             "#c51b7d"
            ],
            [
             0.2,
             "#de77ae"
            ],
            [
             0.3,
             "#f1b6da"
            ],
            [
             0.4,
             "#fde0ef"
            ],
            [
             0.5,
             "#f7f7f7"
            ],
            [
             0.6,
             "#e6f5d0"
            ],
            [
             0.7,
             "#b8e186"
            ],
            [
             0.8,
             "#7fbc41"
            ],
            [
             0.9,
             "#4d9221"
            ],
            [
             1,
             "#276419"
            ]
           ],
           "sequential": [
            [
             0,
             "#0d0887"
            ],
            [
             0.1111111111111111,
             "#46039f"
            ],
            [
             0.2222222222222222,
             "#7201a8"
            ],
            [
             0.3333333333333333,
             "#9c179e"
            ],
            [
             0.4444444444444444,
             "#bd3786"
            ],
            [
             0.5555555555555556,
             "#d8576b"
            ],
            [
             0.6666666666666666,
             "#ed7953"
            ],
            [
             0.7777777777777778,
             "#fb9f3a"
            ],
            [
             0.8888888888888888,
             "#fdca26"
            ],
            [
             1,
             "#f0f921"
            ]
           ],
           "sequentialminus": [
            [
             0,
             "#0d0887"
            ],
            [
             0.1111111111111111,
             "#46039f"
            ],
            [
             0.2222222222222222,
             "#7201a8"
            ],
            [
             0.3333333333333333,
             "#9c179e"
            ],
            [
             0.4444444444444444,
             "#bd3786"
            ],
            [
             0.5555555555555556,
             "#d8576b"
            ],
            [
             0.6666666666666666,
             "#ed7953"
            ],
            [
             0.7777777777777778,
             "#fb9f3a"
            ],
            [
             0.8888888888888888,
             "#fdca26"
            ],
            [
             1,
             "#f0f921"
            ]
           ]
          },
          "colorway": [
           "#636efa",
           "#EF553B",
           "#00cc96",
           "#ab63fa",
           "#FFA15A",
           "#19d3f3",
           "#FF6692",
           "#B6E880",
           "#FF97FF",
           "#FECB52"
          ],
          "font": {
           "color": "#2a3f5f"
          },
          "geo": {
           "bgcolor": "white",
           "lakecolor": "white",
           "landcolor": "white",
           "showlakes": true,
           "showland": true,
           "subunitcolor": "#C8D4E3"
          },
          "hoverlabel": {
           "align": "left"
          },
          "hovermode": "closest",
          "mapbox": {
           "style": "light"
          },
          "paper_bgcolor": "white",
          "plot_bgcolor": "white",
          "polar": {
           "angularaxis": {
            "gridcolor": "#EBF0F8",
            "linecolor": "#EBF0F8",
            "ticks": ""
           },
           "bgcolor": "white",
           "radialaxis": {
            "gridcolor": "#EBF0F8",
            "linecolor": "#EBF0F8",
            "ticks": ""
           }
          },
          "scene": {
           "xaxis": {
            "backgroundcolor": "white",
            "gridcolor": "#DFE8F3",
            "gridwidth": 2,
            "linecolor": "#EBF0F8",
            "showbackground": true,
            "ticks": "",
            "zerolinecolor": "#EBF0F8"
           },
           "yaxis": {
            "backgroundcolor": "white",
            "gridcolor": "#DFE8F3",
            "gridwidth": 2,
            "linecolor": "#EBF0F8",
            "showbackground": true,
            "ticks": "",
            "zerolinecolor": "#EBF0F8"
           },
           "zaxis": {
            "backgroundcolor": "white",
            "gridcolor": "#DFE8F3",
            "gridwidth": 2,
            "linecolor": "#EBF0F8",
            "showbackground": true,
            "ticks": "",
            "zerolinecolor": "#EBF0F8"
           }
          },
          "shapedefaults": {
           "line": {
            "color": "#2a3f5f"
           }
          },
          "ternary": {
           "aaxis": {
            "gridcolor": "#DFE8F3",
            "linecolor": "#A2B1C6",
            "ticks": ""
           },
           "baxis": {
            "gridcolor": "#DFE8F3",
            "linecolor": "#A2B1C6",
            "ticks": ""
           },
           "bgcolor": "white",
           "caxis": {
            "gridcolor": "#DFE8F3",
            "linecolor": "#A2B1C6",
            "ticks": ""
           }
          },
          "title": {
           "x": 0.05
          },
          "xaxis": {
           "automargin": true,
           "gridcolor": "#EBF0F8",
           "linecolor": "#EBF0F8",
           "ticks": "",
           "title": {
            "standoff": 15
           },
           "zerolinecolor": "#EBF0F8",
           "zerolinewidth": 2
          },
          "yaxis": {
           "automargin": true,
           "gridcolor": "#EBF0F8",
           "linecolor": "#EBF0F8",
           "ticks": "",
           "title": {
            "standoff": 15
           },
           "zerolinecolor": "#EBF0F8",
           "zerolinewidth": 2
          }
         }
        },
        "xaxis": {
         "anchor": "y",
         "domain": [
          0,
          1
         ],
         "tickangle": 90,
         "tickfont": {
          "color": "black",
          "size": 9
         },
         "ticktext": [
          "2019-03-31",
          "2019-06-30",
          "2019-09-30",
          "2019-12-31",
          "2020-03-31",
          "2020-06-30",
          "2020-09-30",
          "2020-12-31",
          "2021-03-31",
          "2021-06-30",
          "2021-09-30",
          "2021-12-31"
         ],
         "tickvals": [
          "2019-03-31",
          "2019-06-30",
          "2019-09-30",
          "2019-12-31",
          "2020-03-31",
          "2020-06-30",
          "2020-09-30",
          "2020-12-31",
          "2021-03-31",
          "2021-06-30",
          "2021-09-30",
          "2021-12-31"
         ],
         "title": {
          "text": "Date"
         }
        },
        "yaxis": {
         "anchor": "x",
         "domain": [
          0,
          1
         ],
         "title": {
          "text": "Number of incidents"
         }
        }
       }
      }
     },
     "metadata": {},
     "output_type": "display_data"
    }
   ],
   "source": [
    "#convert date column to datetime\n",
    "robust_df['Date'] = pd.to_datetime(robust_df['Date'])\n",
    "robust_df = robust_df[robust_df['State'] != 'Delhi']\n",
    "robust_df = robust_df[robust_df['State'] != 'Jammu and Kashmir']\n",
    "robust_df = robust_df[robust_df['State'] != 'Chandigarh']\n",
    "robust_df= robust_df[robust_df['State'] != 'Puducherry']\n",
    "robust_df = robust_df[robust_df['State'] != 'Andaman and Nicobar Islands']\n",
    "robust_df = robust_df[robust_df['State'] != 'Lakshadweep']\n",
    "robust_df = robust_df[robust_df['State'] != 'Dadra and Nagar Haveli']\n",
    "robust_df = robust_df[robust_df['State'] != 'Daman and Diu']\n",
    "\n",
    "\n",
    "#create a new column called party_state and if state='Karnataka', 'Gujarat', 'Assam', 'Goa', 'Arunachal Pradesh', 'Haryana', 'Manipur', 'Uttar Pradesh', 'Tripura', 'Uttarakhand', 'Himachal Pradesh', mark BJP. Else Non BJP\n",
    "robust_df['party'] = np.where(robust_df['State'].isin(['Karnataka', 'Madhya Pradesh', 'Gujarat', 'Assam', 'Goa', 'Arunachal Pradesh', 'Haryana', 'Manipur', 'Uttar Pradesh', 'Tripura', 'Uttarakhand', 'Himachal Pradesh']), 'BJP', 'Non BJP')\n",
    "#make a new column called religion\n",
    "robust_df['religion'] = np.nan\n",
    "#if the \"Identity\" column has \"Muslims\", \"Hindu Muslims\", \"Muslims Christians\", \"Muslims Hindu\", \"Muslims Christians\", \"Muslims Christians Other MInorities\", \"Muslims Police/Investigating Agency\", \"Muslims Public servant/Bureaucrat\", \"Muslims Hindu Police/Investigating Agency\", enter \"Muslim\" in the column\n",
    "robust_df.loc[(robust_df['Identity'].isin(['Muslims', 'Hindu Muslims', 'Muslims Christians', 'Muslims Hindu', 'Muslims Christians', 'Muslims Christians Other Minorities', 'Muslims Police/Investigating Agency', 'Muslims Public servant/Bureaucrat', 'Muslims Hindu Police/Investigating Agency'])), 'religion'] = 'Muslim'\n",
    "#if Identity is empty, enter \"Other\"\n",
    "robust_df.loc[(robust_df['religion'].isnull()), 'religion'] = 'Other'\n",
    "#make a new column called year\n",
    "robust_df['year'] = robust_df['Date'].dt.year\n",
    "#remove the year 1970\n",
    "robust_df = robust_df[robust_df['year'] != 1970]\n",
    "#if a month is between January and April, then it is grouped as month=4, day=30. If it is between May and August,  then it is grouped as month=8, day=31. if it is between September and December, then it is grouped as month=12, day=31\n",
    "robust_df['Date'] = robust_df['Date'].apply(lambda x: x.replace(month=3, day=31) if x.month <= 3 else x.replace(month=6, day=30) if x.month <= 6 else x.replace(month=9, day=30) if x.month <= 9 else x.replace(month=12, day=31))\n",
    "#only keep year=2019, 2020, 2021\n",
    "robust_df = robust_df[robust_df['Date'].dt.year.isin([2019, 2020, 2021])]\n",
    "#only only rows where religion is \"Muslim\"\n",
    "robust_df = robust_df[robust_df['religion'] == 'Muslim']\n",
    "#count number of incidents by party, date, religion\n",
    "count_robust_df = robust_df.groupby(['party', 'Date', 'religion']).size().reset_index(name='counts')\n",
    "import plotly.express as px\n",
    "#plot a line plot with ink blue line for BJP and black line for Non BJP and a plain background\n",
    "fig = px.line(count_robust_df, x=\"Date\", y=\"counts\", color='party', color_discrete_map={'BJP': 'rgb(0,0,255)', 'Non BJP': 'rgb(0,0,0)'}, template='plotly_white')\n",
    "\n",
    "#add a vertical line on the date 01-04-2020\n",
    "fig.add_vline(x=\"2020-04-01\", line_width=1, line_dash=\"dash\", line_color=\"black\")\n",
    "#label all dates on the x-axis\n",
    "fig.update_xaxes(\n",
    "    ticktext=['2019-03-31', '2019-06-30', '2019-09-30', '2019-12-31', \n",
    "              '2020-03-31', '2020-06-30', '2020-09-30', '2020-12-31', \n",
    "              '2021-03-31', '2021-06-30', '2021-09-30', '2021-12-31',],\n",
    "    tickvals=['2019-03-31', '2019-06-30', '2019-09-30', '2019-12-31', \n",
    "              '2020-03-31', '2020-06-30', '2020-09-30', '2020-12-31', \n",
    "              '2021-03-31', '2021-06-30', '2021-09-30', '2021-12-31'],\n",
    "    tickangle=90,\n",
    "    tickfont=dict(\n",
    "        size=9,\n",
    "        color='black')\n",
    ")\n",
    "\n",
    "#y-axis label\n",
    "fig.update_yaxes(title_text='Number of incidents')\n",
    "\n",
    "#show the plot\n",
    "fig.show()"
   ]
  },
  {
   "cell_type": "code",
   "execution_count": 13,
   "metadata": {},
   "outputs": [],
   "source": [
    "#create a new column called counts and count number of incidents by state, party, date, religion\n",
    "robust_df = robust_df.groupby(['State', 'party', 'Date', 'religion']).size().reset_index(name='counts')"
   ]
  },
  {
   "cell_type": "code",
   "execution_count": 14,
   "metadata": {},
   "outputs": [],
   "source": [
    "#make a new column called post\n",
    "robust_df['post'] = np.where(robust_df['Date'] >= '2020-04-01', 1, 0)"
   ]
  },
  {
   "cell_type": "code",
   "execution_count": 16,
   "metadata": {},
   "outputs": [],
   "source": [
    "#make a column called partyid, if party is BJP, then partyid=1, else partyid=0\n",
    "robust_df['partyid'] = np.where(robust_df['party'] == 'BJP', 1, 0)"
   ]
  },
  {
   "cell_type": "code",
   "execution_count": 8,
   "metadata": {},
   "outputs": [],
   "source": [
    "state_df = pd.read_csv('/Users/anusharajan/Documents/Assignments_thesis/OxCGRT_IND_latest.csv')"
   ]
  },
  {
   "cell_type": "code",
   "execution_count": 9,
   "metadata": {},
   "outputs": [],
   "source": [
    "#only keep region name = Karnataka, Madhya Pradesh, Jharkhand\n",
    "state_df = state_df[state_df['RegionName'].isin(['Karnataka', 'Madhya Pradesh', 'Jharkhand'])]"
   ]
  },
  {
   "cell_type": "code",
   "execution_count": 10,
   "metadata": {},
   "outputs": [],
   "source": [
    "#read Date column as datetime\n",
    "state_df['Date'] = pd.to_datetime(state_df['Date'], format='%Y%m%d')\n",
    "#only keep years 2020 and 2021\n",
    "state_df = state_df[state_df['Date'].dt.year.isin([2020, 2021])]\n",
    "\n",
    "state_df = state_df[['RegionName', 'Date', 'C1M_School closing', 'C2M_Workplace closing', 'C3M_Cancel public events', 'C4M_Restrictions on gatherings', 'C5M_Close public transport', 'C6M_Stay at home requirements', 'C7M_Restrictions on internal movement', 'H1_Public information campaigns']]\n",
    "#remove rows where RegionName=Nan\n",
    "state_df = state_df[state_df['RegionName'].notna()]\n",
    "#remove rows with Nan values\n",
    "state_df = state_df.dropna()\n",
    "#if a month is between January and April, then it is grouped as month=4, day=30. If it is between May and August,  then it is grouped as month=8, day=31. if it is between September and December, then it is grouped as month=12, day=31\n",
    "state_df['Date'] = state_df['Date'].apply(lambda x: x.replace(month=3, day=31) if x.month <= 3 else x.replace(month=6, day=30) if x.month <= 6 else x.replace(month=9, day=30) if x.month <= 9 else x.replace(month=12, day=31))\n",
    "#group by region and date and take the mean of the values\n",
    "state_df = state_df.groupby(['RegionName', 'Date']).agg({'C1M_School closing': 'mean', 'C2M_Workplace closing': 'mean', 'C3M_Cancel public events': 'mean', 'C4M_Restrictions on gatherings': 'mean', 'C5M_Close public transport': 'mean', 'C6M_Stay at home requirements': 'mean', 'C7M_Restrictions on internal movement': 'mean', 'H1_Public information campaigns': 'mean'}).reset_index()\n"
   ]
  },
  {
   "cell_type": "code",
   "execution_count": 11,
   "metadata": {},
   "outputs": [],
   "source": [
    "#export the data to a csv file\n",
    "state_df.to_csv('/Users/anusharajan/Documents/Assignments_thesis/state_df_robust.csv', index=False)"
   ]
  },
  {
   "cell_type": "code",
   "execution_count": 8,
   "metadata": {},
   "outputs": [],
   "source": [
    "#import /Users/anusharajan/Documents/Assignments_thesis/robust_model.csv\n",
    "count_final_df = pd.read_csv('/Users/anusharajan/Documents/Assignments_thesis/robust_model.csv')"
   ]
  },
  {
   "cell_type": "code",
   "execution_count": 9,
   "metadata": {},
   "outputs": [],
   "source": [
    "#delete rows where State= Karnataka, Madhya Pradesh, Jharkhand\n",
    "count_final_df = count_final_df[~count_final_df['State'].isin(['Karnataka', 'Madhya Pradesh', 'Jharkhand'])]"
   ]
  },
  {
   "cell_type": "code",
   "execution_count": 10,
   "metadata": {},
   "outputs": [],
   "source": [
    "#export the data to a csv file\n",
    "count_final_df.to_csv('/Users/anusharajan/Documents/Assignments_thesis/count_final_df_robust.csv', index=False)"
   ]
  },
  {
   "cell_type": "code",
   "execution_count": 4,
   "metadata": {},
   "outputs": [],
   "source": [
    "#import /Users/anusharajan/Documents/Assignments_thesis/working_file.csv\n",
    "working_df = pd.read_csv('/Users/anusharajan/Documents/Assignments_thesis/working_file.csv')"
   ]
  },
  {
   "cell_type": "code",
   "execution_count": 5,
   "metadata": {},
   "outputs": [],
   "source": [
    "#if blame = \"action\", blame_number = 4\n",
    "working_df['blame_number'] = np.where(working_df['blame'] == 'action', 4, 0)\n",
    "#if blame = \"acc_in_threat\", blame_number=5\n",
    "working_df['blame_number'] = np.where(working_df['blame'] == 'acc_in_threat', 5, working_df['blame_number'])\n",
    "#if blame = \"ct_st_ho\", blame_number= 2\n",
    "working_df['blame_number'] = np.where(working_df['blame'] == 'ct_st_ho', 2, working_df['blame_number'])\n",
    "#if blame = \"support\", blame_number= 1\n",
    "working_df['blame_number'] = np.where(working_df['blame'] == 'support', 1, working_df['blame_number'])\n",
    "#if blame = \"blame\", blame_number= 3\n",
    "working_df['blame_number'] = np.where(working_df['blame'] == 'blame', 3, working_df['blame_number'])"
   ]
  },
  {
   "cell_type": "code",
   "execution_count": 6,
   "metadata": {},
   "outputs": [],
   "source": [
    "#if blame_number=3,4,5 then blame=1, else blame=0\n",
    "working_df['blame'] = np.where(working_df['blame_number'].isin([3, 4, 5]), 1, 0)"
   ]
  },
  {
   "cell_type": "code",
   "execution_count": null,
   "metadata": {},
   "outputs": [],
   "source": [
    "#export the data to a csv file as final_mechanism.csv\n",
    "working_df.to_csv('/Users/anusharajan/Documents/Assignments_thesis/final_mechanism.csv', index=False)"
   ]
  },
  {
   "cell_type": "code",
   "execution_count": 7,
   "metadata": {},
   "outputs": [],
   "source": [
    "#import /Users/anusharajan/Documents/Assignments_thesis/for_analysis.csv\n",
    "analysis_df = pd.read_csv('/Users/anusharajan/Documents/Assignments_thesis/for_analysis.csv')"
   ]
  },
  {
   "cell_type": "code",
   "execution_count": 8,
   "metadata": {},
   "outputs": [],
   "source": [
    "#only keep rows where region=center\n",
    "analysis_df = analysis_df[analysis_df['region'].isin(['centre'])]"
   ]
  },
  {
   "cell_type": "code",
   "execution_count": 16,
   "metadata": {},
   "outputs": [],
   "source": [
    "#count number of statements by blame_number and store it as a dataframe\n",
    "analysis_df = analysis_df.groupby(['blame_number']).size().reset_index(name='counts')"
   ]
  },
  {
   "cell_type": "code",
   "execution_count": 20,
   "metadata": {},
   "outputs": [],
   "source": [
    "#total number of statements\n",
    "total = analysis_df['counts'].sum()"
   ]
  }
 ],
 "metadata": {
  "kernelspec": {
   "display_name": "base",
   "language": "python",
   "name": "python3"
  },
  "language_info": {
   "codemirror_mode": {
    "name": "ipython",
    "version": 3
   },
   "file_extension": ".py",
   "mimetype": "text/x-python",
   "name": "python",
   "nbconvert_exporter": "python",
   "pygments_lexer": "ipython3",
   "version": "3.9.13"
  },
  "orig_nbformat": 4
 },
 "nbformat": 4,
 "nbformat_minor": 2
}
